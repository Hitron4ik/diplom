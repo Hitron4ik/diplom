{
 "cells": [
  {
   "cell_type": "markdown",
   "id": "f6549fbc",
   "metadata": {},
   "source": [
    "# IMDB Top 250 Movies"
   ]
  },
  {
   "cell_type": "code",
   "execution_count": 1,
   "id": "1ed7d281",
   "metadata": {},
   "outputs": [],
   "source": [
    "import pandas as pd\n",
    "import numpy as np"
   ]
  },
  {
   "cell_type": "markdown",
   "id": "43aa5bea",
   "metadata": {},
   "source": [
    "## Загрузка данных"
   ]
  },
  {
   "cell_type": "code",
   "execution_count": 3,
   "id": "57fb7a07",
   "metadata": {},
   "outputs": [],
   "source": [
    "df = pd.read_csv('movies.csv.zip')"
   ]
  },
  {
   "cell_type": "code",
   "execution_count": 6,
   "id": "222ba77c",
   "metadata": {},
   "outputs": [
    {
     "data": {
      "text/html": [
       "<div>\n",
       "<style scoped>\n",
       "    .dataframe tbody tr th:only-of-type {\n",
       "        vertical-align: middle;\n",
       "    }\n",
       "\n",
       "    .dataframe tbody tr th {\n",
       "        vertical-align: top;\n",
       "    }\n",
       "\n",
       "    .dataframe thead th {\n",
       "        text-align: right;\n",
       "    }\n",
       "</style>\n",
       "<table border=\"1\" class=\"dataframe\">\n",
       "  <thead>\n",
       "    <tr style=\"text-align: right;\">\n",
       "      <th></th>\n",
       "      <th>rank</th>\n",
       "      <th>movie_id</th>\n",
       "      <th>title</th>\n",
       "      <th>year</th>\n",
       "      <th>link</th>\n",
       "      <th>imbd_votes</th>\n",
       "      <th>imbd_rating</th>\n",
       "      <th>certificate</th>\n",
       "      <th>duration</th>\n",
       "      <th>genre</th>\n",
       "      <th>...</th>\n",
       "      <th>director_id</th>\n",
       "      <th>director_name</th>\n",
       "      <th>writer_id</th>\n",
       "      <th>writer_name</th>\n",
       "      <th>storyline</th>\n",
       "      <th>user_id</th>\n",
       "      <th>user_name</th>\n",
       "      <th>review_id</th>\n",
       "      <th>review_title</th>\n",
       "      <th>review_content</th>\n",
       "    </tr>\n",
       "  </thead>\n",
       "  <tbody>\n",
       "    <tr>\n",
       "      <th>0</th>\n",
       "      <td>1</td>\n",
       "      <td>tt0111161</td>\n",
       "      <td>The Shawshank Redemption</td>\n",
       "      <td>1994</td>\n",
       "      <td>https://www.imdb.com/title/tt0111161</td>\n",
       "      <td>2,711,075</td>\n",
       "      <td>9.3</td>\n",
       "      <td>R</td>\n",
       "      <td>2h 22m</td>\n",
       "      <td>Drama</td>\n",
       "      <td>...</td>\n",
       "      <td>nm0001104</td>\n",
       "      <td>Frank Darabont</td>\n",
       "      <td>nm0000175,nm0001104</td>\n",
       "      <td>Stephen King,Frank Darabont</td>\n",
       "      <td>Over the course of several years, two convicts...</td>\n",
       "      <td>ur16161013,ur15311310,ur0265899,ur16117882,ur1...</td>\n",
       "      <td>hitchcockthelegend,Sleepin_Dragon,EyeDunno,ale...</td>\n",
       "      <td>rw2284594,rw6606154,rw1221355,rw1822343,rw1288...</td>\n",
       "      <td>Some birds aren't meant to be caged.,An incred...</td>\n",
       "      <td>The Shawshank Redemption is written and direct...</td>\n",
       "    </tr>\n",
       "    <tr>\n",
       "      <th>1</th>\n",
       "      <td>2</td>\n",
       "      <td>tt0068646</td>\n",
       "      <td>The Godfather</td>\n",
       "      <td>1972</td>\n",
       "      <td>https://www.imdb.com/title/tt0068646</td>\n",
       "      <td>1,882,829</td>\n",
       "      <td>9.2</td>\n",
       "      <td>R</td>\n",
       "      <td>2h 55m</td>\n",
       "      <td>Crime,Drama</td>\n",
       "      <td>...</td>\n",
       "      <td>nm0000338</td>\n",
       "      <td>Francis Ford Coppola</td>\n",
       "      <td>nm0701374,nm0000338</td>\n",
       "      <td>Mario Puzo,Francis Ford Coppola</td>\n",
       "      <td>The aging patriarch of an organized crime dyna...</td>\n",
       "      <td>ur24740649,ur86182727,ur15794099,ur15311310,ur...</td>\n",
       "      <td>CalRhys,andrewburgereviews,gogoschka-1,Sleepin...</td>\n",
       "      <td>rw3038370,rw4756923,rw4059579,rw6568526,rw1897...</td>\n",
       "      <td>The Pinnacle Of Flawless Films!,An offer so go...</td>\n",
       "      <td>'The Godfather' is the pinnacle of flawless fi...</td>\n",
       "    </tr>\n",
       "  </tbody>\n",
       "</table>\n",
       "<p>2 rows × 22 columns</p>\n",
       "</div>"
      ],
      "text/plain": [
       "   rank   movie_id                     title  year  \\\n",
       "0     1  tt0111161  The Shawshank Redemption  1994   \n",
       "1     2  tt0068646             The Godfather  1972   \n",
       "\n",
       "                                   link imbd_votes  imbd_rating certificate  \\\n",
       "0  https://www.imdb.com/title/tt0111161  2,711,075          9.3           R   \n",
       "1  https://www.imdb.com/title/tt0068646  1,882,829          9.2           R   \n",
       "\n",
       "  duration        genre  ... director_id         director_name  \\\n",
       "0   2h 22m        Drama  ...   nm0001104        Frank Darabont   \n",
       "1   2h 55m  Crime,Drama  ...   nm0000338  Francis Ford Coppola   \n",
       "\n",
       "             writer_id                      writer_name  \\\n",
       "0  nm0000175,nm0001104      Stephen King,Frank Darabont   \n",
       "1  nm0701374,nm0000338  Mario Puzo,Francis Ford Coppola   \n",
       "\n",
       "                                           storyline  \\\n",
       "0  Over the course of several years, two convicts...   \n",
       "1  The aging patriarch of an organized crime dyna...   \n",
       "\n",
       "                                             user_id  \\\n",
       "0  ur16161013,ur15311310,ur0265899,ur16117882,ur1...   \n",
       "1  ur24740649,ur86182727,ur15794099,ur15311310,ur...   \n",
       "\n",
       "                                           user_name  \\\n",
       "0  hitchcockthelegend,Sleepin_Dragon,EyeDunno,ale...   \n",
       "1  CalRhys,andrewburgereviews,gogoschka-1,Sleepin...   \n",
       "\n",
       "                                           review_id  \\\n",
       "0  rw2284594,rw6606154,rw1221355,rw1822343,rw1288...   \n",
       "1  rw3038370,rw4756923,rw4059579,rw6568526,rw1897...   \n",
       "\n",
       "                                        review_title  \\\n",
       "0  Some birds aren't meant to be caged.,An incred...   \n",
       "1  The Pinnacle Of Flawless Films!,An offer so go...   \n",
       "\n",
       "                                      review_content  \n",
       "0  The Shawshank Redemption is written and direct...  \n",
       "1  'The Godfather' is the pinnacle of flawless fi...  \n",
       "\n",
       "[2 rows x 22 columns]"
      ]
     },
     "execution_count": 6,
     "metadata": {},
     "output_type": "execute_result"
    }
   ],
   "source": [
    "df.head(2)"
   ]
  },
  {
   "cell_type": "code",
   "execution_count": null,
   "id": "70850e48",
   "metadata": {},
   "outputs": [],
   "source": []
  }
 ],
 "metadata": {
  "kernelspec": {
   "display_name": "Python 3 (ipykernel)",
   "language": "python",
   "name": "python3"
  },
  "language_info": {
   "codemirror_mode": {
    "name": "ipython",
    "version": 3
   },
   "file_extension": ".py",
   "mimetype": "text/x-python",
   "name": "python",
   "nbconvert_exporter": "python",
   "pygments_lexer": "ipython3",
   "version": "3.9.13"
  }
 },
 "nbformat": 4,
 "nbformat_minor": 5
}
