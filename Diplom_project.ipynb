{
 "cells": [
  {
   "cell_type": "markdown",
   "id": "b5d46d5a",
   "metadata": {},
   "source": [
    "# IMDB Top 250 Movies"
   ]
  },
  {
   "cell_type": "code",
   "execution_count": 1,
   "id": "82da0407",
   "metadata": {},
   "outputs": [],
   "source": [
    "import pandas as pd\n",
    "import numpy as np\n",
    "import matplotlib.pyplot as plt\n",
    "%matplotlib inline\n",
    "import seaborn as sns"
   ]
  },
  {
   "cell_type": "markdown",
   "id": "65f372cc",
   "metadata": {},
   "source": [
    "## Загрузка и просмотр данных"
   ]
  },
  {
   "cell_type": "code",
   "execution_count": 2,
   "id": "42b41c74",
   "metadata": {},
   "outputs": [],
   "source": [
    "df = pd.read_csv('movies.csv.zip')"
   ]
  },
  {
   "cell_type": "code",
   "execution_count": 3,
   "id": "2b857839",
   "metadata": {},
   "outputs": [
    {
     "data": {
      "text/html": [
       "<div>\n",
       "<style scoped>\n",
       "    .dataframe tbody tr th:only-of-type {\n",
       "        vertical-align: middle;\n",
       "    }\n",
       "\n",
       "    .dataframe tbody tr th {\n",
       "        vertical-align: top;\n",
       "    }\n",
       "\n",
       "    .dataframe thead th {\n",
       "        text-align: right;\n",
       "    }\n",
       "</style>\n",
       "<table border=\"1\" class=\"dataframe\">\n",
       "  <thead>\n",
       "    <tr style=\"text-align: right;\">\n",
       "      <th></th>\n",
       "      <th>rank</th>\n",
       "      <th>movie_id</th>\n",
       "      <th>title</th>\n",
       "      <th>year</th>\n",
       "      <th>link</th>\n",
       "      <th>imbd_votes</th>\n",
       "      <th>imbd_rating</th>\n",
       "      <th>certificate</th>\n",
       "      <th>duration</th>\n",
       "      <th>genre</th>\n",
       "      <th>...</th>\n",
       "      <th>director_id</th>\n",
       "      <th>director_name</th>\n",
       "      <th>writer_id</th>\n",
       "      <th>writer_name</th>\n",
       "      <th>storyline</th>\n",
       "      <th>user_id</th>\n",
       "      <th>user_name</th>\n",
       "      <th>review_id</th>\n",
       "      <th>review_title</th>\n",
       "      <th>review_content</th>\n",
       "    </tr>\n",
       "  </thead>\n",
       "  <tbody>\n",
       "    <tr>\n",
       "      <th>0</th>\n",
       "      <td>1</td>\n",
       "      <td>tt0111161</td>\n",
       "      <td>The Shawshank Redemption</td>\n",
       "      <td>1994</td>\n",
       "      <td>https://www.imdb.com/title/tt0111161</td>\n",
       "      <td>2,711,075</td>\n",
       "      <td>9.3</td>\n",
       "      <td>R</td>\n",
       "      <td>2h 22m</td>\n",
       "      <td>Drama</td>\n",
       "      <td>...</td>\n",
       "      <td>nm0001104</td>\n",
       "      <td>Frank Darabont</td>\n",
       "      <td>nm0000175,nm0001104</td>\n",
       "      <td>Stephen King,Frank Darabont</td>\n",
       "      <td>Over the course of several years, two convicts...</td>\n",
       "      <td>ur16161013,ur15311310,ur0265899,ur16117882,ur1...</td>\n",
       "      <td>hitchcockthelegend,Sleepin_Dragon,EyeDunno,ale...</td>\n",
       "      <td>rw2284594,rw6606154,rw1221355,rw1822343,rw1288...</td>\n",
       "      <td>Some birds aren't meant to be caged.,An incred...</td>\n",
       "      <td>The Shawshank Redemption is written and direct...</td>\n",
       "    </tr>\n",
       "    <tr>\n",
       "      <th>1</th>\n",
       "      <td>2</td>\n",
       "      <td>tt0068646</td>\n",
       "      <td>The Godfather</td>\n",
       "      <td>1972</td>\n",
       "      <td>https://www.imdb.com/title/tt0068646</td>\n",
       "      <td>1,882,829</td>\n",
       "      <td>9.2</td>\n",
       "      <td>R</td>\n",
       "      <td>2h 55m</td>\n",
       "      <td>Crime,Drama</td>\n",
       "      <td>...</td>\n",
       "      <td>nm0000338</td>\n",
       "      <td>Francis Ford Coppola</td>\n",
       "      <td>nm0701374,nm0000338</td>\n",
       "      <td>Mario Puzo,Francis Ford Coppola</td>\n",
       "      <td>The aging patriarch of an organized crime dyna...</td>\n",
       "      <td>ur24740649,ur86182727,ur15794099,ur15311310,ur...</td>\n",
       "      <td>CalRhys,andrewburgereviews,gogoschka-1,Sleepin...</td>\n",
       "      <td>rw3038370,rw4756923,rw4059579,rw6568526,rw1897...</td>\n",
       "      <td>The Pinnacle Of Flawless Films!,An offer so go...</td>\n",
       "      <td>'The Godfather' is the pinnacle of flawless fi...</td>\n",
       "    </tr>\n",
       "  </tbody>\n",
       "</table>\n",
       "<p>2 rows × 22 columns</p>\n",
       "</div>"
      ],
      "text/plain": [
       "   rank   movie_id                     title  year  \\\n",
       "0     1  tt0111161  The Shawshank Redemption  1994   \n",
       "1     2  tt0068646             The Godfather  1972   \n",
       "\n",
       "                                   link imbd_votes  imbd_rating certificate  \\\n",
       "0  https://www.imdb.com/title/tt0111161  2,711,075          9.3           R   \n",
       "1  https://www.imdb.com/title/tt0068646  1,882,829          9.2           R   \n",
       "\n",
       "  duration        genre  ... director_id         director_name  \\\n",
       "0   2h 22m        Drama  ...   nm0001104        Frank Darabont   \n",
       "1   2h 55m  Crime,Drama  ...   nm0000338  Francis Ford Coppola   \n",
       "\n",
       "             writer_id                      writer_name  \\\n",
       "0  nm0000175,nm0001104      Stephen King,Frank Darabont   \n",
       "1  nm0701374,nm0000338  Mario Puzo,Francis Ford Coppola   \n",
       "\n",
       "                                           storyline  \\\n",
       "0  Over the course of several years, two convicts...   \n",
       "1  The aging patriarch of an organized crime dyna...   \n",
       "\n",
       "                                             user_id  \\\n",
       "0  ur16161013,ur15311310,ur0265899,ur16117882,ur1...   \n",
       "1  ur24740649,ur86182727,ur15794099,ur15311310,ur...   \n",
       "\n",
       "                                           user_name  \\\n",
       "0  hitchcockthelegend,Sleepin_Dragon,EyeDunno,ale...   \n",
       "1  CalRhys,andrewburgereviews,gogoschka-1,Sleepin...   \n",
       "\n",
       "                                           review_id  \\\n",
       "0  rw2284594,rw6606154,rw1221355,rw1822343,rw1288...   \n",
       "1  rw3038370,rw4756923,rw4059579,rw6568526,rw1897...   \n",
       "\n",
       "                                        review_title  \\\n",
       "0  Some birds aren't meant to be caged.,An incred...   \n",
       "1  The Pinnacle Of Flawless Films!,An offer so go...   \n",
       "\n",
       "                                      review_content  \n",
       "0  The Shawshank Redemption is written and direct...  \n",
       "1  'The Godfather' is the pinnacle of flawless fi...  \n",
       "\n",
       "[2 rows x 22 columns]"
      ]
     },
     "execution_count": 3,
     "metadata": {},
     "output_type": "execute_result"
    }
   ],
   "source": [
    "df.head(2)"
   ]
  },
  {
   "cell_type": "code",
   "execution_count": null,
   "id": "9c2d501b",
   "metadata": {},
   "outputs": [],
   "source": []
  },
  {
   "cell_type": "code",
   "execution_count": 4,
   "id": "986f3c8f",
   "metadata": {},
   "outputs": [
    {
     "data": {
      "text/plain": [
       "Index(['rank', 'movie_id', 'title', 'year', 'link', 'imbd_votes',\n",
       "       'imbd_rating', 'certificate', 'duration', 'genre', 'cast_id',\n",
       "       'cast_name', 'director_id', 'director_name', 'writer_id', 'writer_name',\n",
       "       'storyline', 'user_id', 'user_name', 'review_id', 'review_title',\n",
       "       'review_content'],\n",
       "      dtype='object')"
      ]
     },
     "execution_count": 4,
     "metadata": {},
     "output_type": "execute_result"
    }
   ],
   "source": [
    "df.columns"
   ]
  },
  {
   "cell_type": "code",
   "execution_count": 5,
   "id": "dd252e76",
   "metadata": {},
   "outputs": [
    {
     "name": "stdout",
     "output_type": "stream",
     "text": [
      "<class 'pandas.core.frame.DataFrame'>\n",
      "RangeIndex: 250 entries, 0 to 249\n",
      "Data columns (total 22 columns):\n",
      " #   Column          Non-Null Count  Dtype  \n",
      "---  ------          --------------  -----  \n",
      " 0   rank            250 non-null    int64  \n",
      " 1   movie_id        250 non-null    object \n",
      " 2   title           250 non-null    object \n",
      " 3   year            250 non-null    int64  \n",
      " 4   link            250 non-null    object \n",
      " 5   imbd_votes      250 non-null    object \n",
      " 6   imbd_rating     250 non-null    float64\n",
      " 7   certificate     249 non-null    object \n",
      " 8   duration        250 non-null    object \n",
      " 9   genre           250 non-null    object \n",
      " 10  cast_id         250 non-null    object \n",
      " 11  cast_name       250 non-null    object \n",
      " 12  director_id     250 non-null    object \n",
      " 13  director_name   250 non-null    object \n",
      " 14  writer_id       250 non-null    object \n",
      " 15  writer_name     250 non-null    object \n",
      " 16  storyline       250 non-null    object \n",
      " 17  user_id         250 non-null    object \n",
      " 18  user_name       250 non-null    object \n",
      " 19  review_id       250 non-null    object \n",
      " 20  review_title    250 non-null    object \n",
      " 21  review_content  250 non-null    object \n",
      "dtypes: float64(1), int64(2), object(19)\n",
      "memory usage: 43.1+ KB\n"
     ]
    }
   ],
   "source": [
    "df.info()"
   ]
  },
  {
   "cell_type": "code",
   "execution_count": 6,
   "id": "c53b42b3",
   "metadata": {},
   "outputs": [
    {
     "data": {
      "text/html": [
       "<div>\n",
       "<style scoped>\n",
       "    .dataframe tbody tr th:only-of-type {\n",
       "        vertical-align: middle;\n",
       "    }\n",
       "\n",
       "    .dataframe tbody tr th {\n",
       "        vertical-align: top;\n",
       "    }\n",
       "\n",
       "    .dataframe thead th {\n",
       "        text-align: right;\n",
       "    }\n",
       "</style>\n",
       "<table border=\"1\" class=\"dataframe\">\n",
       "  <thead>\n",
       "    <tr style=\"text-align: right;\">\n",
       "      <th></th>\n",
       "      <th>rank</th>\n",
       "      <th>year</th>\n",
       "      <th>imbd_rating</th>\n",
       "    </tr>\n",
       "  </thead>\n",
       "  <tbody>\n",
       "    <tr>\n",
       "      <th>count</th>\n",
       "      <td>250.000000</td>\n",
       "      <td>250.000000</td>\n",
       "      <td>250.000000</td>\n",
       "    </tr>\n",
       "    <tr>\n",
       "      <th>mean</th>\n",
       "      <td>125.500000</td>\n",
       "      <td>1986.360000</td>\n",
       "      <td>8.306800</td>\n",
       "    </tr>\n",
       "    <tr>\n",
       "      <th>std</th>\n",
       "      <td>72.312977</td>\n",
       "      <td>25.125356</td>\n",
       "      <td>0.229006</td>\n",
       "    </tr>\n",
       "    <tr>\n",
       "      <th>min</th>\n",
       "      <td>1.000000</td>\n",
       "      <td>1921.000000</td>\n",
       "      <td>8.000000</td>\n",
       "    </tr>\n",
       "    <tr>\n",
       "      <th>25%</th>\n",
       "      <td>63.250000</td>\n",
       "      <td>1966.250000</td>\n",
       "      <td>8.100000</td>\n",
       "    </tr>\n",
       "    <tr>\n",
       "      <th>50%</th>\n",
       "      <td>125.500000</td>\n",
       "      <td>1994.000000</td>\n",
       "      <td>8.200000</td>\n",
       "    </tr>\n",
       "    <tr>\n",
       "      <th>75%</th>\n",
       "      <td>187.750000</td>\n",
       "      <td>2006.000000</td>\n",
       "      <td>8.400000</td>\n",
       "    </tr>\n",
       "    <tr>\n",
       "      <th>max</th>\n",
       "      <td>250.000000</td>\n",
       "      <td>2022.000000</td>\n",
       "      <td>9.300000</td>\n",
       "    </tr>\n",
       "  </tbody>\n",
       "</table>\n",
       "</div>"
      ],
      "text/plain": [
       "             rank         year  imbd_rating\n",
       "count  250.000000   250.000000   250.000000\n",
       "mean   125.500000  1986.360000     8.306800\n",
       "std     72.312977    25.125356     0.229006\n",
       "min      1.000000  1921.000000     8.000000\n",
       "25%     63.250000  1966.250000     8.100000\n",
       "50%    125.500000  1994.000000     8.200000\n",
       "75%    187.750000  2006.000000     8.400000\n",
       "max    250.000000  2022.000000     9.300000"
      ]
     },
     "execution_count": 6,
     "metadata": {},
     "output_type": "execute_result"
    }
   ],
   "source": [
    "df.describe()"
   ]
  },
  {
   "cell_type": "markdown",
   "id": "214e58b2",
   "metadata": {},
   "source": [
    "## Проверяем на пропущенные значения"
   ]
  },
  {
   "cell_type": "code",
   "execution_count": 7,
   "id": "764c3082",
   "metadata": {},
   "outputs": [
    {
     "data": {
      "text/plain": [
       "rank              0\n",
       "movie_id          0\n",
       "title             0\n",
       "year              0\n",
       "link              0\n",
       "imbd_votes        0\n",
       "imbd_rating       0\n",
       "certificate       1\n",
       "duration          0\n",
       "genre             0\n",
       "cast_id           0\n",
       "cast_name         0\n",
       "director_id       0\n",
       "director_name     0\n",
       "writer_id         0\n",
       "writer_name       0\n",
       "storyline         0\n",
       "user_id           0\n",
       "user_name         0\n",
       "review_id         0\n",
       "review_title      0\n",
       "review_content    0\n",
       "dtype: int64"
      ]
     },
     "execution_count": 7,
     "metadata": {},
     "output_type": "execute_result"
    }
   ],
   "source": [
    "df.isnull().sum()"
   ]
  },
  {
   "cell_type": "code",
   "execution_count": 8,
   "id": "a6914621",
   "metadata": {},
   "outputs": [
    {
     "data": {
      "text/html": [
       "<div>\n",
       "<style scoped>\n",
       "    .dataframe tbody tr th:only-of-type {\n",
       "        vertical-align: middle;\n",
       "    }\n",
       "\n",
       "    .dataframe tbody tr th {\n",
       "        vertical-align: top;\n",
       "    }\n",
       "\n",
       "    .dataframe thead th {\n",
       "        text-align: right;\n",
       "    }\n",
       "</style>\n",
       "<table border=\"1\" class=\"dataframe\">\n",
       "  <thead>\n",
       "    <tr style=\"text-align: right;\">\n",
       "      <th></th>\n",
       "      <th>rank</th>\n",
       "      <th>movie_id</th>\n",
       "      <th>title</th>\n",
       "      <th>year</th>\n",
       "      <th>link</th>\n",
       "      <th>imbd_votes</th>\n",
       "      <th>imbd_rating</th>\n",
       "      <th>certificate</th>\n",
       "      <th>duration</th>\n",
       "      <th>genre</th>\n",
       "      <th>...</th>\n",
       "      <th>director_id</th>\n",
       "      <th>director_name</th>\n",
       "      <th>writer_id</th>\n",
       "      <th>writer_name</th>\n",
       "      <th>storyline</th>\n",
       "      <th>user_id</th>\n",
       "      <th>user_name</th>\n",
       "      <th>review_id</th>\n",
       "      <th>review_title</th>\n",
       "      <th>review_content</th>\n",
       "    </tr>\n",
       "  </thead>\n",
       "  <tbody>\n",
       "    <tr>\n",
       "      <th>76</th>\n",
       "      <td>77</td>\n",
       "      <td>tt0082096</td>\n",
       "      <td>The Boat</td>\n",
       "      <td>1981</td>\n",
       "      <td>https://www.imdb.com/title/tt0082096</td>\n",
       "      <td>253,534</td>\n",
       "      <td>8.4</td>\n",
       "      <td>NaN</td>\n",
       "      <td>2h 29m</td>\n",
       "      <td>Drama,War</td>\n",
       "      <td>...</td>\n",
       "      <td>nm0000583</td>\n",
       "      <td>Wolfgang Petersen</td>\n",
       "      <td>nm0000583,nm0118164</td>\n",
       "      <td>Wolfgang Petersen,Lothar G. Buchheim</td>\n",
       "      <td>A German U-boat stalks the frigid waters of th...</td>\n",
       "      <td>ur1298472,ur2467618,ur2488512,ur20961309,ur266...</td>\n",
       "      <td>jaywolfenstien,planktonrules,claudio_carvalho,...</td>\n",
       "      <td>rw1051627,rw1418315,rw3867480,rw2355307,rw6345...</td>\n",
       "      <td>Epic,Probably the greatest WWII naval movie,Ge...</td>\n",
       "      <td>What impresses me the most about the film, as ...</td>\n",
       "    </tr>\n",
       "  </tbody>\n",
       "</table>\n",
       "<p>1 rows × 22 columns</p>\n",
       "</div>"
      ],
      "text/plain": [
       "    rank   movie_id     title  year                                  link  \\\n",
       "76    77  tt0082096  The Boat  1981  https://www.imdb.com/title/tt0082096   \n",
       "\n",
       "   imbd_votes  imbd_rating certificate duration      genre  ... director_id  \\\n",
       "76    253,534          8.4         NaN   2h 29m  Drama,War  ...   nm0000583   \n",
       "\n",
       "        director_name            writer_id  \\\n",
       "76  Wolfgang Petersen  nm0000583,nm0118164   \n",
       "\n",
       "                             writer_name  \\\n",
       "76  Wolfgang Petersen,Lothar G. Buchheim   \n",
       "\n",
       "                                            storyline  \\\n",
       "76  A German U-boat stalks the frigid waters of th...   \n",
       "\n",
       "                                              user_id  \\\n",
       "76  ur1298472,ur2467618,ur2488512,ur20961309,ur266...   \n",
       "\n",
       "                                            user_name  \\\n",
       "76  jaywolfenstien,planktonrules,claudio_carvalho,...   \n",
       "\n",
       "                                            review_id  \\\n",
       "76  rw1051627,rw1418315,rw3867480,rw2355307,rw6345...   \n",
       "\n",
       "                                         review_title  \\\n",
       "76  Epic,Probably the greatest WWII naval movie,Ge...   \n",
       "\n",
       "                                       review_content  \n",
       "76  What impresses me the most about the film, as ...  \n",
       "\n",
       "[1 rows x 22 columns]"
      ]
     },
     "execution_count": 8,
     "metadata": {},
     "output_type": "execute_result"
    }
   ],
   "source": [
    "# смотрим у какого фильма пропушено значение\n",
    "df[df['certificate'].isnull()]"
   ]
  },
  {
   "cell_type": "code",
   "execution_count": 9,
   "id": "9a5b04a5",
   "metadata": {},
   "outputs": [
    {
     "data": {
      "text/plain": [
       "array(['R', 'PG-13', 'Approved', 'PG', '18+', 'Not Rated', 'G', 'Passed',\n",
       "       nan, 'TV-PG', 'Unrated', 'X', '13+', 'TV-MA', 'GP'], dtype=object)"
      ]
     },
     "execution_count": 9,
     "metadata": {},
     "output_type": "execute_result"
    }
   ],
   "source": [
    "df['certificate'].unique()"
   ]
  },
  {
   "cell_type": "code",
   "execution_count": 10,
   "id": "56e8f950",
   "metadata": {},
   "outputs": [],
   "source": [
    "#заменяем рейтинг\n",
    "df['certificate'] = df['certificate'].replace(np.nan,'R')"
   ]
  },
  {
   "cell_type": "code",
   "execution_count": 11,
   "id": "2d1fa8c9",
   "metadata": {
    "scrolled": false
   },
   "outputs": [
    {
     "data": {
      "text/plain": [
       "Text(0.5, 1.0, 'Популярность рейтингов')"
      ]
     },
     "execution_count": 11,
     "metadata": {},
     "output_type": "execute_result"
    },
    {
     "data": {
      "image/png": "[encoded data removed]",
      "text/plain": [
       "<Figure size 1000x300 with 1 Axes>"
      ]
     },
     "metadata": {},
     "output_type": "display_data"
    }
   ],
   "source": [
    "plt.figure(figsize=(10, 3))\n",
    "sns.countplot(x='certificate',data= df)\n",
    "plt.title(\"Популярность рейтингов\")\n"
   ]
  },
  {
   "cell_type": "markdown",
   "id": "1c7314a2",
   "metadata": {},
   "source": [
    "### Наиболее популярны фильмы с возрастным рейтингом R"
   ]
  },
  {
   "cell_type": "markdown",
   "id": "840b8f21",
   "metadata": {},
   "source": [
    "## Преобразовываем колонку с голосами"
   ]
  },
  {
   "cell_type": "code",
   "execution_count": 12,
   "id": "c10712f9",
   "metadata": {},
   "outputs": [
    {
     "data": {
      "text/html": [
       "<div>\n",
       "<style scoped>\n",
       "    .dataframe tbody tr th:only-of-type {\n",
       "        vertical-align: middle;\n",
       "    }\n",
       "\n",
       "    .dataframe tbody tr th {\n",
       "        vertical-align: top;\n",
       "    }\n",
       "\n",
       "    .dataframe thead th {\n",
       "        text-align: right;\n",
       "    }\n",
       "</style>\n",
       "<table border=\"1\" class=\"dataframe\">\n",
       "  <thead>\n",
       "    <tr style=\"text-align: right;\">\n",
       "      <th></th>\n",
       "      <th>rank</th>\n",
       "      <th>movie_id</th>\n",
       "      <th>title</th>\n",
       "      <th>year</th>\n",
       "      <th>link</th>\n",
       "      <th>imbd_votes</th>\n",
       "      <th>imbd_rating</th>\n",
       "      <th>certificate</th>\n",
       "      <th>duration</th>\n",
       "      <th>genre</th>\n",
       "      <th>...</th>\n",
       "      <th>director_id</th>\n",
       "      <th>director_name</th>\n",
       "      <th>writer_id</th>\n",
       "      <th>writer_name</th>\n",
       "      <th>storyline</th>\n",
       "      <th>user_id</th>\n",
       "      <th>user_name</th>\n",
       "      <th>review_id</th>\n",
       "      <th>review_title</th>\n",
       "      <th>review_content</th>\n",
       "    </tr>\n",
       "  </thead>\n",
       "  <tbody>\n",
       "    <tr>\n",
       "      <th>0</th>\n",
       "      <td>1</td>\n",
       "      <td>tt0111161</td>\n",
       "      <td>The Shawshank Redemption</td>\n",
       "      <td>1994</td>\n",
       "      <td>https://www.imdb.com/title/tt0111161</td>\n",
       "      <td>2711075</td>\n",
       "      <td>9.3</td>\n",
       "      <td>R</td>\n",
       "      <td>2h 22m</td>\n",
       "      <td>Drama</td>\n",
       "      <td>...</td>\n",
       "      <td>nm0001104</td>\n",
       "      <td>Frank Darabont</td>\n",
       "      <td>nm0000175,nm0001104</td>\n",
       "      <td>Stephen King,Frank Darabont</td>\n",
       "      <td>Over the course of several years, two convicts...</td>\n",
       "      <td>ur16161013,ur15311310,ur0265899,ur16117882,ur1...</td>\n",
       "      <td>hitchcockthelegend,Sleepin_Dragon,EyeDunno,ale...</td>\n",
       "      <td>rw2284594,rw6606154,rw1221355,rw1822343,rw1288...</td>\n",
       "      <td>Some birds aren't meant to be caged.,An incred...</td>\n",
       "      <td>The Shawshank Redemption is written and direct...</td>\n",
       "    </tr>\n",
       "    <tr>\n",
       "      <th>1</th>\n",
       "      <td>2</td>\n",
       "      <td>tt0068646</td>\n",
       "      <td>The Godfather</td>\n",
       "      <td>1972</td>\n",
       "      <td>https://www.imdb.com/title/tt0068646</td>\n",
       "      <td>1882829</td>\n",
       "      <td>9.2</td>\n",
       "      <td>R</td>\n",
       "      <td>2h 55m</td>\n",
       "      <td>Crime,Drama</td>\n",
       "      <td>...</td>\n",
       "      <td>nm0000338</td>\n",
       "      <td>Francis Ford Coppola</td>\n",
       "      <td>nm0701374,nm0000338</td>\n",
       "      <td>Mario Puzo,Francis Ford Coppola</td>\n",
       "      <td>The aging patriarch of an organized crime dyna...</td>\n",
       "      <td>ur24740649,ur86182727,ur15794099,ur15311310,ur...</td>\n",
       "      <td>CalRhys,andrewburgereviews,gogoschka-1,Sleepin...</td>\n",
       "      <td>rw3038370,rw4756923,rw4059579,rw6568526,rw1897...</td>\n",
       "      <td>The Pinnacle Of Flawless Films!,An offer so go...</td>\n",
       "      <td>'The Godfather' is the pinnacle of flawless fi...</td>\n",
       "    </tr>\n",
       "  </tbody>\n",
       "</table>\n",
       "<p>2 rows × 22 columns</p>\n",
       "</div>"
      ],
      "text/plain": [
       "   rank   movie_id                     title  year  \\\n",
       "0     1  tt0111161  The Shawshank Redemption  1994   \n",
       "1     2  tt0068646             The Godfather  1972   \n",
       "\n",
       "                                   link  imbd_votes  imbd_rating certificate  \\\n",
       "0  https://www.imdb.com/title/tt0111161     2711075          9.3           R   \n",
       "1  https://www.imdb.com/title/tt0068646     1882829          9.2           R   \n",
       "\n",
       "  duration        genre  ... director_id         director_name  \\\n",
       "0   2h 22m        Drama  ...   nm0001104        Frank Darabont   \n",
       "1   2h 55m  Crime,Drama  ...   nm0000338  Francis Ford Coppola   \n",
       "\n",
       "             writer_id                      writer_name  \\\n",
       "0  nm0000175,nm0001104      Stephen King,Frank Darabont   \n",
       "1  nm0701374,nm0000338  Mario Puzo,Francis Ford Coppola   \n",
       "\n",
       "                                           storyline  \\\n",
       "0  Over the course of several years, two convicts...   \n",
       "1  The aging patriarch of an organized crime dyna...   \n",
       "\n",
       "                                             user_id  \\\n",
       "0  ur16161013,ur15311310,ur0265899,ur16117882,ur1...   \n",
       "1  ur24740649,ur86182727,ur15794099,ur15311310,ur...   \n",
       "\n",
       "                                           user_name  \\\n",
       "0  hitchcockthelegend,Sleepin_Dragon,EyeDunno,ale...   \n",
       "1  CalRhys,andrewburgereviews,gogoschka-1,Sleepin...   \n",
       "\n",
       "                                           review_id  \\\n",
       "0  rw2284594,rw6606154,rw1221355,rw1822343,rw1288...   \n",
       "1  rw3038370,rw4756923,rw4059579,rw6568526,rw1897...   \n",
       "\n",
       "                                        review_title  \\\n",
       "0  Some birds aren't meant to be caged.,An incred...   \n",
       "1  The Pinnacle Of Flawless Films!,An offer so go...   \n",
       "\n",
       "                                      review_content  \n",
       "0  The Shawshank Redemption is written and direct...  \n",
       "1  'The Godfather' is the pinnacle of flawless fi...  \n",
       "\n",
       "[2 rows x 22 columns]"
      ]
     },
     "execution_count": 12,
     "metadata": {},
     "output_type": "execute_result"
    }
   ],
   "source": [
    "imbd_votes = []\n",
    "for i in df['imbd_votes'].values:\n",
    "    imbd_votes.append(int(i.replace(',','')))\n",
    "df['imbd_votes'] = imbd_votes\n",
    "df.head(2)"
   ]
  },
  {
   "cell_type": "code",
   "execution_count": 13,
   "id": "b805826a",
   "metadata": {},
   "outputs": [
    {
     "data": {
      "text/plain": [
       "dtype('int64')"
      ]
     },
     "execution_count": 13,
     "metadata": {},
     "output_type": "execute_result"
    }
   ],
   "source": [
    "df.imbd_votes.dtypes"
   ]
  },
  {
   "cell_type": "markdown",
   "id": "ea2830a8",
   "metadata": {},
   "source": [
    "## Есть ли связь между голосами и рейтингом?"
   ]
  },
  {
   "cell_type": "code",
   "execution_count": 14,
   "id": "246abeb1",
   "metadata": {
    "scrolled": false
   },
   "outputs": [
    {
     "data": {
      "text/plain": [
       "Text(0, 0.5, 'Рейтинг')"
      ]
     },
     "execution_count": 14,
     "metadata": {},
     "output_type": "execute_result"
    },
    {
     "data": {
      "image/png": "[encoded data removed]",
      "text/plain": [
       "<Figure size 640x480 with 1 Axes>"
      ]
     },
     "metadata": {},
     "output_type": "display_data"
    }
   ],
   "source": [
    "sns.scatterplot(x='imbd_votes',y='imbd_rating',data=df, color='green')\n",
    "plt.title(\"Влияние количества голосов на рейтинга\")\n",
    "plt.xlabel(\"Количество голосов (млн.)\")\n",
    "plt.ylabel(\"Рейтинг\")"
   ]
  },
  {
   "cell_type": "markdown",
   "id": "240f496b",
   "metadata": {},
   "source": [
    "## Ответ: Да"
   ]
  },
  {
   "cell_type": "markdown",
   "id": "0f617a04",
   "metadata": {},
   "source": [
    "## Преобразовываем продолжительность фильма в минуты"
   ]
  },
  {
   "cell_type": "code",
   "execution_count": 15,
   "id": "d707c329",
   "metadata": {},
   "outputs": [
    {
     "data": {
      "text/html": [
       "<div>\n",
       "<style scoped>\n",
       "    .dataframe tbody tr th:only-of-type {\n",
       "        vertical-align: middle;\n",
       "    }\n",
       "\n",
       "    .dataframe tbody tr th {\n",
       "        vertical-align: top;\n",
       "    }\n",
       "\n",
       "    .dataframe thead th {\n",
       "        text-align: right;\n",
       "    }\n",
       "</style>\n",
       "<table border=\"1\" class=\"dataframe\">\n",
       "  <thead>\n",
       "    <tr style=\"text-align: right;\">\n",
       "      <th></th>\n",
       "      <th>rank</th>\n",
       "      <th>movie_id</th>\n",
       "      <th>title</th>\n",
       "      <th>year</th>\n",
       "      <th>link</th>\n",
       "      <th>imbd_votes</th>\n",
       "      <th>imbd_rating</th>\n",
       "      <th>certificate</th>\n",
       "      <th>duration</th>\n",
       "      <th>genre</th>\n",
       "      <th>...</th>\n",
       "      <th>director_id</th>\n",
       "      <th>director_name</th>\n",
       "      <th>writer_id</th>\n",
       "      <th>writer_name</th>\n",
       "      <th>storyline</th>\n",
       "      <th>user_id</th>\n",
       "      <th>user_name</th>\n",
       "      <th>review_id</th>\n",
       "      <th>review_title</th>\n",
       "      <th>review_content</th>\n",
       "    </tr>\n",
       "  </thead>\n",
       "  <tbody>\n",
       "    <tr>\n",
       "      <th>0</th>\n",
       "      <td>1</td>\n",
       "      <td>tt0111161</td>\n",
       "      <td>The Shawshank Redemption</td>\n",
       "      <td>1994</td>\n",
       "      <td>https://www.imdb.com/title/tt0111161</td>\n",
       "      <td>2711075</td>\n",
       "      <td>9.3</td>\n",
       "      <td>R</td>\n",
       "      <td>142</td>\n",
       "      <td>Drama</td>\n",
       "      <td>...</td>\n",
       "      <td>nm0001104</td>\n",
       "      <td>Frank Darabont</td>\n",
       "      <td>nm0000175,nm0001104</td>\n",
       "      <td>Stephen King,Frank Darabont</td>\n",
       "      <td>Over the course of several years, two convicts...</td>\n",
       "      <td>ur16161013,ur15311310,ur0265899,ur16117882,ur1...</td>\n",
       "      <td>hitchcockthelegend,Sleepin_Dragon,EyeDunno,ale...</td>\n",
       "      <td>rw2284594,rw6606154,rw1221355,rw1822343,rw1288...</td>\n",
       "      <td>Some birds aren't meant to be caged.,An incred...</td>\n",
       "      <td>The Shawshank Redemption is written and direct...</td>\n",
       "    </tr>\n",
       "    <tr>\n",
       "      <th>1</th>\n",
       "      <td>2</td>\n",
       "      <td>tt0068646</td>\n",
       "      <td>The Godfather</td>\n",
       "      <td>1972</td>\n",
       "      <td>https://www.imdb.com/title/tt0068646</td>\n",
       "      <td>1882829</td>\n",
       "      <td>9.2</td>\n",
       "      <td>R</td>\n",
       "      <td>175</td>\n",
       "      <td>Crime,Drama</td>\n",
       "      <td>...</td>\n",
       "      <td>nm0000338</td>\n",
       "      <td>Francis Ford Coppola</td>\n",
       "      <td>nm0701374,nm0000338</td>\n",
       "      <td>Mario Puzo,Francis Ford Coppola</td>\n",
       "      <td>The aging patriarch of an organized crime dyna...</td>\n",
       "      <td>ur24740649,ur86182727,ur15794099,ur15311310,ur...</td>\n",
       "      <td>CalRhys,andrewburgereviews,gogoschka-1,Sleepin...</td>\n",
       "      <td>rw3038370,rw4756923,rw4059579,rw6568526,rw1897...</td>\n",
       "      <td>The Pinnacle Of Flawless Films!,An offer so go...</td>\n",
       "      <td>'The Godfather' is the pinnacle of flawless fi...</td>\n",
       "    </tr>\n",
       "  </tbody>\n",
       "</table>\n",
       "<p>2 rows × 22 columns</p>\n",
       "</div>"
      ],
      "text/plain": [
       "   rank   movie_id                     title  year  \\\n",
       "0     1  tt0111161  The Shawshank Redemption  1994   \n",
       "1     2  tt0068646             The Godfather  1972   \n",
       "\n",
       "                                   link  imbd_votes  imbd_rating certificate  \\\n",
       "0  https://www.imdb.com/title/tt0111161     2711075          9.3           R   \n",
       "1  https://www.imdb.com/title/tt0068646     1882829          9.2           R   \n",
       "\n",
       "   duration        genre  ... director_id         director_name  \\\n",
       "0       142        Drama  ...   nm0001104        Frank Darabont   \n",
       "1       175  Crime,Drama  ...   nm0000338  Francis Ford Coppola   \n",
       "\n",
       "             writer_id                      writer_name  \\\n",
       "0  nm0000175,nm0001104      Stephen King,Frank Darabont   \n",
       "1  nm0701374,nm0000338  Mario Puzo,Francis Ford Coppola   \n",
       "\n",
       "                                           storyline  \\\n",
       "0  Over the course of several years, two convicts...   \n",
       "1  The aging patriarch of an organized crime dyna...   \n",
       "\n",
       "                                             user_id  \\\n",
       "0  ur16161013,ur15311310,ur0265899,ur16117882,ur1...   \n",
       "1  ur24740649,ur86182727,ur15794099,ur15311310,ur...   \n",
       "\n",
       "                                           user_name  \\\n",
       "0  hitchcockthelegend,Sleepin_Dragon,EyeDunno,ale...   \n",
       "1  CalRhys,andrewburgereviews,gogoschka-1,Sleepin...   \n",
       "\n",
       "                                           review_id  \\\n",
       "0  rw2284594,rw6606154,rw1221355,rw1822343,rw1288...   \n",
       "1  rw3038370,rw4756923,rw4059579,rw6568526,rw1897...   \n",
       "\n",
       "                                        review_title  \\\n",
       "0  Some birds aren't meant to be caged.,An incred...   \n",
       "1  The Pinnacle Of Flawless Films!,An offer so go...   \n",
       "\n",
       "                                      review_content  \n",
       "0  The Shawshank Redemption is written and direct...  \n",
       "1  'The Godfather' is the pinnacle of flawless fi...  \n",
       "\n",
       "[2 rows x 22 columns]"
      ]
     },
     "execution_count": 15,
     "metadata": {},
     "output_type": "execute_result"
    }
   ],
   "source": [
    "duration = []\n",
    "for i in df['duration'].values:\n",
    "    if 'h' in i and 'm' in i:\n",
    "        duration.append((int(i.split(' ')[0].replace('h',''))* 60)  + int(i.split(' ')[1].replace('m','')))\n",
    "    if 'h' in i and 'm' not in i:\n",
    "        duration.append(int(i.replace('h',''))*60)\n",
    "    if 'm' in i and 'h' not in i:\n",
    "        duration.append(int(i.replace('m','')))\n",
    "df['duration'] = duration\n",
    "df.head(2)"
   ]
  },
  {
   "cell_type": "code",
   "execution_count": 16,
   "id": "61d5843c",
   "metadata": {},
   "outputs": [
    {
     "data": {
      "text/plain": [
       "dtype('int64')"
      ]
     },
     "execution_count": 16,
     "metadata": {},
     "output_type": "execute_result"
    }
   ],
   "source": [
    "df.duration.dtypes"
   ]
  },
  {
   "cell_type": "markdown",
   "id": "a4b5cd10",
   "metadata": {},
   "source": [
    "## Сортировка по продолжительности"
   ]
  },
  {
   "cell_type": "code",
   "execution_count": 17,
   "id": "e681dab9",
   "metadata": {},
   "outputs": [],
   "source": [
    "df = df.sort_values(by='duration',ascending = False)"
   ]
  },
  {
   "cell_type": "code",
   "execution_count": 18,
   "id": "f866e5ef",
   "metadata": {},
   "outputs": [
    {
     "data": {
      "text/html": [
       "<div>\n",
       "<style scoped>\n",
       "    .dataframe tbody tr th:only-of-type {\n",
       "        vertical-align: middle;\n",
       "    }\n",
       "\n",
       "    .dataframe tbody tr th {\n",
       "        vertical-align: top;\n",
       "    }\n",
       "\n",
       "    .dataframe thead th {\n",
       "        text-align: right;\n",
       "    }\n",
       "</style>\n",
       "<table border=\"1\" class=\"dataframe\">\n",
       "  <thead>\n",
       "    <tr style=\"text-align: right;\">\n",
       "      <th></th>\n",
       "      <th>rank</th>\n",
       "      <th>movie_id</th>\n",
       "      <th>title</th>\n",
       "      <th>year</th>\n",
       "      <th>link</th>\n",
       "      <th>imbd_votes</th>\n",
       "      <th>imbd_rating</th>\n",
       "      <th>certificate</th>\n",
       "      <th>duration</th>\n",
       "      <th>genre</th>\n",
       "      <th>...</th>\n",
       "      <th>director_id</th>\n",
       "      <th>director_name</th>\n",
       "      <th>writer_id</th>\n",
       "      <th>writer_name</th>\n",
       "      <th>storyline</th>\n",
       "      <th>user_id</th>\n",
       "      <th>user_name</th>\n",
       "      <th>review_id</th>\n",
       "      <th>review_title</th>\n",
       "      <th>review_content</th>\n",
       "    </tr>\n",
       "  </thead>\n",
       "  <tbody>\n",
       "    <tr>\n",
       "      <th>158</th>\n",
       "      <td>159</td>\n",
       "      <td>tt0031381</td>\n",
       "      <td>Gone with the Wind</td>\n",
       "      <td>1939</td>\n",
       "      <td>https://www.imdb.com/title/tt0031381</td>\n",
       "      <td>319434</td>\n",
       "      <td>8.2</td>\n",
       "      <td>Passed</td>\n",
       "      <td>238</td>\n",
       "      <td>Drama,Romance,War</td>\n",
       "      <td>...</td>\n",
       "      <td>nm0281808,nm0002030,nm0939992</td>\n",
       "      <td>Victor Fleming,George Cukor,Sam Wood</td>\n",
       "      <td>tt0031381,nm0593565,nm0397608,nm0308177,tt0031381</td>\n",
       "      <td>Writers,Margaret Mitchell,Sidney Howard,Oliver...</td>\n",
       "      <td>American motion picture classic in which a man...</td>\n",
       "      <td>ur1406078,ur2483625,ur2467618,ur4103165,ur5843...</td>\n",
       "      <td>jotix100,bkoganbing,planktonrules,Xstal,Turani...</td>\n",
       "      <td>rw1026203,rw1503022,rw1439927,rw6134854,rw5817...</td>\n",
       "      <td>Georgia on my mind,Scarlett's So High Spirited...</td>\n",
       "      <td>This film shows the best of the American cinem...</td>\n",
       "    </tr>\n",
       "  </tbody>\n",
       "</table>\n",
       "<p>1 rows × 22 columns</p>\n",
       "</div>"
      ],
      "text/plain": [
       "     rank   movie_id               title  year  \\\n",
       "158   159  tt0031381  Gone with the Wind  1939   \n",
       "\n",
       "                                     link  imbd_votes  imbd_rating  \\\n",
       "158  https://www.imdb.com/title/tt0031381      319434          8.2   \n",
       "\n",
       "    certificate  duration              genre  ...  \\\n",
       "158      Passed       238  Drama,Romance,War  ...   \n",
       "\n",
       "                       director_id                         director_name  \\\n",
       "158  nm0281808,nm0002030,nm0939992  Victor Fleming,George Cukor,Sam Wood   \n",
       "\n",
       "                                             writer_id  \\\n",
       "158  tt0031381,nm0593565,nm0397608,nm0308177,tt0031381   \n",
       "\n",
       "                                           writer_name  \\\n",
       "158  Writers,Margaret Mitchell,Sidney Howard,Oliver...   \n",
       "\n",
       "                                             storyline  \\\n",
       "158  American motion picture classic in which a man...   \n",
       "\n",
       "                                               user_id  \\\n",
       "158  ur1406078,ur2483625,ur2467618,ur4103165,ur5843...   \n",
       "\n",
       "                                             user_name  \\\n",
       "158  jotix100,bkoganbing,planktonrules,Xstal,Turani...   \n",
       "\n",
       "                                             review_id  \\\n",
       "158  rw1026203,rw1503022,rw1439927,rw6134854,rw5817...   \n",
       "\n",
       "                                          review_title  \\\n",
       "158  Georgia on my mind,Scarlett's So High Spirited...   \n",
       "\n",
       "                                        review_content  \n",
       "158  This film shows the best of the American cinem...  \n",
       "\n",
       "[1 rows x 22 columns]"
      ]
     },
     "execution_count": 18,
     "metadata": {},
     "output_type": "execute_result"
    }
   ],
   "source": [
    "# самый длинный фильм\n",
    "df.head(1)"
   ]
  },
  {
   "cell_type": "code",
   "execution_count": 19,
   "id": "0f3e91d6",
   "metadata": {},
   "outputs": [
    {
     "data": {
      "text/html": [
       "<div>\n",
       "<style scoped>\n",
       "    .dataframe tbody tr th:only-of-type {\n",
       "        vertical-align: middle;\n",
       "    }\n",
       "\n",
       "    .dataframe tbody tr th {\n",
       "        vertical-align: top;\n",
       "    }\n",
       "\n",
       "    .dataframe thead th {\n",
       "        text-align: right;\n",
       "    }\n",
       "</style>\n",
       "<table border=\"1\" class=\"dataframe\">\n",
       "  <thead>\n",
       "    <tr style=\"text-align: right;\">\n",
       "      <th></th>\n",
       "      <th>rank</th>\n",
       "      <th>movie_id</th>\n",
       "      <th>title</th>\n",
       "      <th>year</th>\n",
       "      <th>link</th>\n",
       "      <th>imbd_votes</th>\n",
       "      <th>imbd_rating</th>\n",
       "      <th>certificate</th>\n",
       "      <th>duration</th>\n",
       "      <th>genre</th>\n",
       "      <th>...</th>\n",
       "      <th>director_id</th>\n",
       "      <th>director_name</th>\n",
       "      <th>writer_id</th>\n",
       "      <th>writer_name</th>\n",
       "      <th>storyline</th>\n",
       "      <th>user_id</th>\n",
       "      <th>user_name</th>\n",
       "      <th>review_id</th>\n",
       "      <th>review_title</th>\n",
       "      <th>review_content</th>\n",
       "    </tr>\n",
       "  </thead>\n",
       "  <tbody>\n",
       "    <tr>\n",
       "      <th>194</th>\n",
       "      <td>195</td>\n",
       "      <td>tt0015324</td>\n",
       "      <td>Sherlock Jr.</td>\n",
       "      <td>1924</td>\n",
       "      <td>https://www.imdb.com/title/tt0015324</td>\n",
       "      <td>51440</td>\n",
       "      <td>8.2</td>\n",
       "      <td>Passed</td>\n",
       "      <td>45</td>\n",
       "      <td>Action,Comedy,Romance</td>\n",
       "      <td>...</td>\n",
       "      <td>nm0000036</td>\n",
       "      <td>Buster Keaton</td>\n",
       "      <td>nm0369841,nm0593477,nm0115669</td>\n",
       "      <td>Jean C. Havez,Joseph A. Mitchell,Clyde Bruckman</td>\n",
       "      <td>A film projectionist longs to be a detective, ...</td>\n",
       "      <td>ur1174211,ur5527588,ur4103165,ur0137908,ur0100...</td>\n",
       "      <td>Snow Leopard,imogensara_smith,Xstal,didi-5,up2...</td>\n",
       "      <td>rw0003413,rw1473937,rw6102574,rw1476358,rw1306...</td>\n",
       "      <td>Astounding Creativity,Through the Movie Screen...</td>\n",
       "      <td>It's almost impossible to describe the astound...</td>\n",
       "    </tr>\n",
       "  </tbody>\n",
       "</table>\n",
       "<p>1 rows × 22 columns</p>\n",
       "</div>"
      ],
      "text/plain": [
       "     rank   movie_id         title  year  \\\n",
       "194   195  tt0015324  Sherlock Jr.  1924   \n",
       "\n",
       "                                     link  imbd_votes  imbd_rating  \\\n",
       "194  https://www.imdb.com/title/tt0015324       51440          8.2   \n",
       "\n",
       "    certificate  duration                  genre  ... director_id  \\\n",
       "194      Passed        45  Action,Comedy,Romance  ...   nm0000036   \n",
       "\n",
       "     director_name                      writer_id  \\\n",
       "194  Buster Keaton  nm0369841,nm0593477,nm0115669   \n",
       "\n",
       "                                         writer_name  \\\n",
       "194  Jean C. Havez,Joseph A. Mitchell,Clyde Bruckman   \n",
       "\n",
       "                                             storyline  \\\n",
       "194  A film projectionist longs to be a detective, ...   \n",
       "\n",
       "                                               user_id  \\\n",
       "194  ur1174211,ur5527588,ur4103165,ur0137908,ur0100...   \n",
       "\n",
       "                                             user_name  \\\n",
       "194  Snow Leopard,imogensara_smith,Xstal,didi-5,up2...   \n",
       "\n",
       "                                             review_id  \\\n",
       "194  rw0003413,rw1473937,rw6102574,rw1476358,rw1306...   \n",
       "\n",
       "                                          review_title  \\\n",
       "194  Astounding Creativity,Through the Movie Screen...   \n",
       "\n",
       "                                        review_content  \n",
       "194  It's almost impossible to describe the astound...  \n",
       "\n",
       "[1 rows x 22 columns]"
      ]
     },
     "execution_count": 19,
     "metadata": {},
     "output_type": "execute_result"
    }
   ],
   "source": [
    "# Самый короткий фильм\n",
    "df.tail(1)"
   ]
  },
  {
   "cell_type": "code",
   "execution_count": 20,
   "id": "e865baa7",
   "metadata": {},
   "outputs": [
    {
     "name": "stdout",
     "output_type": "stream",
     "text": [
      "Cредняя продолжительность фильмов 129 мин.,    а медиана продолжительности фильмов 126 мин.\n"
     ]
    }
   ],
   "source": [
    "print('Cредняя продолжительность фильмов', round(df.duration.mean()),'мин.,\\\n",
    "    а медиана продолжительности фильмов', round(df.duration.median()), 'мин.')"
   ]
  },
  {
   "cell_type": "markdown",
   "id": "a3760098",
   "metadata": {},
   "source": [
    "## Группировка по годам"
   ]
  },
  {
   "cell_type": "code",
   "execution_count": 21,
   "id": "a1819f13",
   "metadata": {
    "scrolled": true
   },
   "outputs": [
    {
     "data": {
      "text/html": [
       "<div>\n",
       "<style scoped>\n",
       "    .dataframe tbody tr th:only-of-type {\n",
       "        vertical-align: middle;\n",
       "    }\n",
       "\n",
       "    .dataframe tbody tr th {\n",
       "        vertical-align: top;\n",
       "    }\n",
       "\n",
       "    .dataframe thead th {\n",
       "        text-align: right;\n",
       "    }\n",
       "</style>\n",
       "<table border=\"1\" class=\"dataframe\">\n",
       "  <thead>\n",
       "    <tr style=\"text-align: right;\">\n",
       "      <th></th>\n",
       "      <th>year</th>\n",
       "      <th>count</th>\n",
       "    </tr>\n",
       "  </thead>\n",
       "  <tbody>\n",
       "    <tr>\n",
       "      <th>58</th>\n",
       "      <td>1995</td>\n",
       "      <td>8</td>\n",
       "    </tr>\n",
       "    <tr>\n",
       "      <th>67</th>\n",
       "      <td>2004</td>\n",
       "      <td>7</td>\n",
       "    </tr>\n",
       "    <tr>\n",
       "      <th>22</th>\n",
       "      <td>1957</td>\n",
       "      <td>6</td>\n",
       "    </tr>\n",
       "    <tr>\n",
       "      <th>62</th>\n",
       "      <td>1999</td>\n",
       "      <td>6</td>\n",
       "    </tr>\n",
       "    <tr>\n",
       "      <th>66</th>\n",
       "      <td>2003</td>\n",
       "      <td>6</td>\n",
       "    </tr>\n",
       "    <tr>\n",
       "      <th>72</th>\n",
       "      <td>2009</td>\n",
       "      <td>6</td>\n",
       "    </tr>\n",
       "    <tr>\n",
       "      <th>82</th>\n",
       "      <td>2019</td>\n",
       "      <td>6</td>\n",
       "    </tr>\n",
       "    <tr>\n",
       "      <th>38</th>\n",
       "      <td>1975</td>\n",
       "      <td>5</td>\n",
       "    </tr>\n",
       "    <tr>\n",
       "      <th>57</th>\n",
       "      <td>1994</td>\n",
       "      <td>5</td>\n",
       "    </tr>\n",
       "    <tr>\n",
       "      <th>60</th>\n",
       "      <td>1997</td>\n",
       "      <td>5</td>\n",
       "    </tr>\n",
       "  </tbody>\n",
       "</table>\n",
       "</div>"
      ],
      "text/plain": [
       "    year  count\n",
       "58  1995      8\n",
       "67  2004      7\n",
       "22  1957      6\n",
       "62  1999      6\n",
       "66  2003      6\n",
       "72  2009      6\n",
       "82  2019      6\n",
       "38  1975      5\n",
       "57  1994      5\n",
       "60  1997      5"
      ]
     },
     "execution_count": 21,
     "metadata": {},
     "output_type": "execute_result"
    }
   ],
   "source": [
    "years = df.groupby('year').agg({'year': ['count']}).reset_index()\n",
    "years.columns = ['year','count']\n",
    "years = years.sort_values(['count','year'], ascending=[False,True])\n",
    "years.head(10)"
   ]
  },
  {
   "cell_type": "code",
   "execution_count": 22,
   "id": "dea2e44b",
   "metadata": {},
   "outputs": [
    {
     "data": {
      "text/plain": [
       "Text(0.5, 1.0, 'Топ 10 лет с наибольшим количеством фильмов')"
      ]
     },
     "execution_count": 22,
     "metadata": {},
     "output_type": "execute_result"
    },
    {
     "data": {
      "image/png": "[encoded data removed]",
      "text/plain": [
       "<Figure size 640x480 with 1 Axes>"
      ]
     },
     "metadata": {},
     "output_type": "display_data"
    }
   ],
   "source": [
    "years_top = years.head(10)\n",
    "sns.barplot(x='year',y='count',data=years_top)\n",
    "plt.title(\"Топ 10 лет с наибольшим количеством фильмов\")"
   ]
  },
  {
   "cell_type": "markdown",
   "id": "f72925f7",
   "metadata": {},
   "source": [
    "### Посмотрим из каких десятилетий больше всего попало фильмов в рейтинг"
   ]
  },
  {
   "cell_type": "code",
   "execution_count": 23,
   "id": "9c3988ca",
   "metadata": {},
   "outputs": [
    {
     "data": {
      "text/plain": [
       "1921"
      ]
     },
     "execution_count": 23,
     "metadata": {},
     "output_type": "execute_result"
    }
   ],
   "source": [
    "df.year.min()"
   ]
  },
  {
   "cell_type": "code",
   "execution_count": 24,
   "id": "a34ad82d",
   "metadata": {},
   "outputs": [
    {
     "data": {
      "text/plain": [
       "2022"
      ]
     },
     "execution_count": 24,
     "metadata": {},
     "output_type": "execute_result"
    }
   ],
   "source": [
    "df.year.max()"
   ]
  },
  {
   "cell_type": "code",
   "execution_count": 25,
   "id": "2cb5af1d",
   "metadata": {},
   "outputs": [],
   "source": [
    "def Decade(year):\n",
    "    if year <= 1929:\n",
    "        return '1920-е'\n",
    "    elif year <= 1939:\n",
    "        return '1930-е'\n",
    "    elif year <= 1949:\n",
    "        return '1940-е'\n",
    "    elif year <= 1959:\n",
    "        return '1950-е'\n",
    "    elif year <= 1969:\n",
    "        return '1960-е'\n",
    "    elif year <= 1979:\n",
    "        return '1970-е'\n",
    "    elif year <= 1989:\n",
    "        return '1980-е'\n",
    "    elif year <= 1999:\n",
    "        return '1990-е'\n",
    "    elif year <= 2009:\n",
    "        return '2000-е'\n",
    "    elif year <= 2019:\n",
    "        return '2010-е'\n",
    "    else:\n",
    "        return '2020-е'"
   ]
  },
  {
   "cell_type": "code",
   "execution_count": 26,
   "id": "48380096",
   "metadata": {},
   "outputs": [],
   "source": [
    "df['decade']=df['year'].apply(Decade)"
   ]
  },
  {
   "cell_type": "code",
   "execution_count": 27,
   "id": "6b3e318a",
   "metadata": {},
   "outputs": [
    {
     "data": {
      "text/html": [
       "<div>\n",
       "<style scoped>\n",
       "    .dataframe tbody tr th:only-of-type {\n",
       "        vertical-align: middle;\n",
       "    }\n",
       "\n",
       "    .dataframe tbody tr th {\n",
       "        vertical-align: top;\n",
       "    }\n",
       "\n",
       "    .dataframe thead th {\n",
       "        text-align: right;\n",
       "    }\n",
       "</style>\n",
       "<table border=\"1\" class=\"dataframe\">\n",
       "  <thead>\n",
       "    <tr style=\"text-align: right;\">\n",
       "      <th></th>\n",
       "      <th>rank</th>\n",
       "      <th>movie_id</th>\n",
       "      <th>title</th>\n",
       "      <th>year</th>\n",
       "      <th>link</th>\n",
       "      <th>imbd_votes</th>\n",
       "      <th>imbd_rating</th>\n",
       "      <th>certificate</th>\n",
       "      <th>duration</th>\n",
       "      <th>genre</th>\n",
       "      <th>...</th>\n",
       "      <th>director_name</th>\n",
       "      <th>writer_id</th>\n",
       "      <th>writer_name</th>\n",
       "      <th>storyline</th>\n",
       "      <th>user_id</th>\n",
       "      <th>user_name</th>\n",
       "      <th>review_id</th>\n",
       "      <th>review_title</th>\n",
       "      <th>review_content</th>\n",
       "      <th>decade</th>\n",
       "    </tr>\n",
       "  </thead>\n",
       "  <tbody>\n",
       "    <tr>\n",
       "      <th>158</th>\n",
       "      <td>159</td>\n",
       "      <td>tt0031381</td>\n",
       "      <td>Gone with the Wind</td>\n",
       "      <td>1939</td>\n",
       "      <td>https://www.imdb.com/title/tt0031381</td>\n",
       "      <td>319434</td>\n",
       "      <td>8.2</td>\n",
       "      <td>Passed</td>\n",
       "      <td>238</td>\n",
       "      <td>Drama,Romance,War</td>\n",
       "      <td>...</td>\n",
       "      <td>Victor Fleming,George Cukor,Sam Wood</td>\n",
       "      <td>tt0031381,nm0593565,nm0397608,nm0308177,tt0031381</td>\n",
       "      <td>Writers,Margaret Mitchell,Sidney Howard,Oliver...</td>\n",
       "      <td>American motion picture classic in which a man...</td>\n",
       "      <td>ur1406078,ur2483625,ur2467618,ur4103165,ur5843...</td>\n",
       "      <td>jotix100,bkoganbing,planktonrules,Xstal,Turani...</td>\n",
       "      <td>rw1026203,rw1503022,rw1439927,rw6134854,rw5817...</td>\n",
       "      <td>Georgia on my mind,Scarlett's So High Spirited...</td>\n",
       "      <td>This film shows the best of the American cinem...</td>\n",
       "      <td>1930-е</td>\n",
       "    </tr>\n",
       "  </tbody>\n",
       "</table>\n",
       "<p>1 rows × 23 columns</p>\n",
       "</div>"
      ],
      "text/plain": [
       "     rank   movie_id               title  year  \\\n",
       "158   159  tt0031381  Gone with the Wind  1939   \n",
       "\n",
       "                                     link  imbd_votes  imbd_rating  \\\n",
       "158  https://www.imdb.com/title/tt0031381      319434          8.2   \n",
       "\n",
       "    certificate  duration              genre  ...  \\\n",
       "158      Passed       238  Drama,Romance,War  ...   \n",
       "\n",
       "                            director_name  \\\n",
       "158  Victor Fleming,George Cukor,Sam Wood   \n",
       "\n",
       "                                             writer_id  \\\n",
       "158  tt0031381,nm0593565,nm0397608,nm0308177,tt0031381   \n",
       "\n",
       "                                           writer_name  \\\n",
       "158  Writers,Margaret Mitchell,Sidney Howard,Oliver...   \n",
       "\n",
       "                                             storyline  \\\n",
       "158  American motion picture classic in which a man...   \n",
       "\n",
       "                                               user_id  \\\n",
       "158  ur1406078,ur2483625,ur2467618,ur4103165,ur5843...   \n",
       "\n",
       "                                             user_name  \\\n",
       "158  jotix100,bkoganbing,planktonrules,Xstal,Turani...   \n",
       "\n",
       "                                             review_id  \\\n",
       "158  rw1026203,rw1503022,rw1439927,rw6134854,rw5817...   \n",
       "\n",
       "                                          review_title  \\\n",
       "158  Georgia on my mind,Scarlett's So High Spirited...   \n",
       "\n",
       "                                        review_content  decade  \n",
       "158  This film shows the best of the American cinem...  1930-е  \n",
       "\n",
       "[1 rows x 23 columns]"
      ]
     },
     "execution_count": 27,
     "metadata": {},
     "output_type": "execute_result"
    }
   ],
   "source": [
    "df.head(1)"
   ]
  },
  {
   "cell_type": "code",
   "execution_count": 28,
   "id": "0f8e6edf",
   "metadata": {},
   "outputs": [
    {
     "data": {
      "text/plain": [
       "Text(0.5, 1.0, 'Десятилетие')"
      ]
     },
     "execution_count": 28,
     "metadata": {},
     "output_type": "execute_result"
    },
    {
     "data": {
      "image/png": "[encoded data removed]",
      "text/plain": [
       "<Figure size 1000x300 with 1 Axes>"
      ]
     },
     "metadata": {},
     "output_type": "display_data"
    }
   ],
   "source": [
    "plt.figure(figsize=(10, 3))\n",
    "sns.countplot(x='decade',data= df)\n",
    "plt.title(\"Десятилетие\")"
   ]
  },
  {
   "cell_type": "markdown",
   "id": "e9176bbe",
   "metadata": {},
   "source": [
    "## Посмотрим уникальные жанры"
   ]
  },
  {
   "cell_type": "code",
   "execution_count": 29,
   "id": "c8709c80",
   "metadata": {
    "scrolled": true
   },
   "outputs": [
    {
     "data": {
      "text/plain": [
       "array(['Drama,Romance,War', 'Crime,Drama', 'Adventure,Biography,Drama',\n",
       "       'Adventure,Drama', 'Action,Drama', 'Action,Adventure,Drama',\n",
       "       'Biography,Drama,History', 'Crime,Drama,Fantasy',\n",
       "       'Adventure,Drama,War', 'Drama,War', 'Adventure,Drama,Western',\n",
       "       'Biography,Comedy,Crime', 'Adventure,Western',\n",
       "       'Biography,Drama,Family', 'Adventure,Drama,History',\n",
       "       'Comedy,Drama', 'Action,Crime,Drama', 'Adventure,Drama,Sci-Fi',\n",
       "       'Drama,Family', 'Western', 'Drama,Western',\n",
       "       'Action,Drama,Thriller', 'Crime,Drama,Mystery', 'Action,Drama,War',\n",
       "       'Action,Biography,Drama', 'Biography,Drama,Music', 'Drama',\n",
       "       'Drama,Romance', 'Drama,Thriller', 'Drama,Sci-Fi',\n",
       "       'Crime,Drama,Thriller', 'Adventure,Sci-Fi',\n",
       "       'Drama,Mystery,Thriller', 'Action,Adventure,Sci-Fi',\n",
       "       'Action,Adventure,Fantasy', 'Drama,Mystery,War', 'Drama,Horror',\n",
       "       'Drama,Romance,Thriller', 'Biography,Crime,Drama',\n",
       "       'Drama,Thriller,War', 'Action,Drama,Sport', 'Mystery,Thriller',\n",
       "       'Action,Drama,Sci-Fi', 'Action,Sci-Fi', 'Action,Adventure,Mystery',\n",
       "       'Crime,Sci-Fi', 'Biography,Drama', 'Animation,Action,Adventure',\n",
       "       'Action,Drama,Mystery', 'Action,Thriller', 'Drama,Sport',\n",
       "       'Drama,Mystery', 'Adventure,Drama,Thriller',\n",
       "       'Drama,Family,Fantasy', 'Drama,Film-Noir,Mystery',\n",
       "       'Adventure,Family,Fantasy', 'Drama,Mystery,Sci-Fi',\n",
       "       'Biography,Comedy,Drama', 'Biography,Drama,Sport',\n",
       "       'Drama,Mystery,Romance', 'Comedy,Crime,Drama',\n",
       "       'Mystery,Romance,Thriller', 'Action,Adventure',\n",
       "       'Animation,Adventure,Family', 'Comedy,Drama,War',\n",
       "       'Comedy,Drama,Romance', 'Adventure,Thriller', 'Comedy,Romance',\n",
       "       'Horror', 'Comedy,Drama,Thriller', 'Comedy,Music,Romance',\n",
       "       'Drama,Fantasy,War', 'Horror,Sci-Fi', 'Comedy,Crime',\n",
       "       'Adventure,Comedy,Sci-Fi', 'Animation,Adventure,Comedy',\n",
       "       'Drama,Film-Noir', 'Horror,Mystery,Sci-Fi',\n",
       "       'Horror,Mystery,Thriller', 'Drama,Romance,Sci-Fi',\n",
       "       'Action,Comedy,Crime', 'Crime,Drama,Film-Noir',\n",
       "       'Animation,Drama,Fantasy', 'Drama,Music', 'Crime,Thriller',\n",
       "       'Comedy,Musical,Romance', 'Comedy,Drama,Fantasy',\n",
       "       'Crime,Mystery,Thriller', 'Adventure,Comedy,Crime',\n",
       "       'Comedy,Romance,War', 'Drama,Fantasy', 'Comedy,War',\n",
       "       'Adventure,Comedy,Drama', 'Comedy', 'Film-Noir,Mystery,Thriller',\n",
       "       'Animation,Comedy,Drama', 'Adventure,Comedy,Fantasy',\n",
       "       'Animation,Drama,War', 'Drama,Family,Sport',\n",
       "       'Animation,Adventure,Drama', 'Animation,Comedy,Family',\n",
       "       'Comedy,Drama,Family', 'Action,Adventure,Comedy',\n",
       "       'Action,Comedy,Romance'], dtype=object)"
      ]
     },
     "execution_count": 29,
     "metadata": {},
     "output_type": "execute_result"
    }
   ],
   "source": [
    "df['genre'].unique()"
   ]
  },
  {
   "cell_type": "code",
   "execution_count": 30,
   "id": "0907e415",
   "metadata": {
    "scrolled": true
   },
   "outputs": [
    {
     "data": {
      "text/plain": [
       "104"
      ]
     },
     "execution_count": 30,
     "metadata": {},
     "output_type": "execute_result"
    }
   ],
   "source": [
    "len(df['genre'].unique())"
   ]
  },
  {
   "cell_type": "markdown",
   "id": "01313cdc",
   "metadata": {},
   "source": [
    "#### Много. Найдём уникальные жанры"
   ]
  },
  {
   "cell_type": "code",
   "execution_count": 31,
   "id": "0a75a1c4",
   "metadata": {
    "scrolled": false
   },
   "outputs": [
    {
     "data": {
      "text/plain": [
       "['Fantasy',\n",
       " 'Thriller',\n",
       " 'Music',\n",
       " 'Action',\n",
       " 'Crime',\n",
       " 'Western',\n",
       " 'Biography',\n",
       " 'Musical',\n",
       " 'Animation',\n",
       " 'War',\n",
       " 'Mystery',\n",
       " 'Family',\n",
       " 'Romance',\n",
       " 'Adventure',\n",
       " 'History',\n",
       " 'Comedy',\n",
       " 'Sci-Fi',\n",
       " 'Sport',\n",
       " 'Drama',\n",
       " 'Film-Noir',\n",
       " 'Horror']"
      ]
     },
     "execution_count": 31,
     "metadata": {},
     "output_type": "execute_result"
    }
   ],
   "source": [
    "unique_genre = []\n",
    "for i in df['genre'].values:\n",
    "    unique_genre += i.split(',')\n",
    "unique_genre = list(set(unique_genre))\n",
    "unique_genre"
   ]
  },
  {
   "cell_type": "code",
   "execution_count": 32,
   "id": "e0900f23",
   "metadata": {},
   "outputs": [
    {
     "data": {
      "text/plain": [
       "21"
      ]
     },
     "execution_count": 32,
     "metadata": {},
     "output_type": "execute_result"
    }
   ],
   "source": [
    "len(unique_genre)"
   ]
  },
  {
   "cell_type": "markdown",
   "id": "3b8186bb",
   "metadata": {},
   "source": [
    "## Посмотрим сколько фильмов в каждом жанре"
   ]
  },
  {
   "cell_type": "code",
   "execution_count": 33,
   "id": "450d087c",
   "metadata": {},
   "outputs": [
    {
     "data": {
      "text/plain": [
       "[['Fantasy', 14],\n",
       " ['Thriller', 31],\n",
       " ['Music', 5],\n",
       " ['Action', 50],\n",
       " ['Crime', 51],\n",
       " ['Western', 7],\n",
       " ['Biography', 29],\n",
       " ['Musical', 1],\n",
       " ['Animation', 23],\n",
       " ['War', 23],\n",
       " ['Mystery', 31],\n",
       " ['Family', 13],\n",
       " ['Romance', 23],\n",
       " ['Adventure', 60],\n",
       " ['History', 10],\n",
       " ['Comedy', 45],\n",
       " ['Sci-Fi', 20],\n",
       " ['Sport', 5],\n",
       " ['Drama', 177],\n",
       " ['Film-Noir', 4],\n",
       " ['Horror', 5]]"
      ]
     },
     "execution_count": 33,
     "metadata": {},
     "output_type": "execute_result"
    }
   ],
   "source": [
    "data = []\n",
    "for i in unique_genre:\n",
    "    c = 0\n",
    "    for j in df.values:\n",
    "        if(i in j[9]):\n",
    "            c += 1\n",
    "    data.append([i,c])\n",
    "data"
   ]
  },
  {
   "cell_type": "code",
   "execution_count": 34,
   "id": "50547acf",
   "metadata": {},
   "outputs": [
    {
     "data": {
      "text/html": [
       "<div>\n",
       "<style scoped>\n",
       "    .dataframe tbody tr th:only-of-type {\n",
       "        vertical-align: middle;\n",
       "    }\n",
       "\n",
       "    .dataframe tbody tr th {\n",
       "        vertical-align: top;\n",
       "    }\n",
       "\n",
       "    .dataframe thead th {\n",
       "        text-align: right;\n",
       "    }\n",
       "</style>\n",
       "<table border=\"1\" class=\"dataframe\">\n",
       "  <thead>\n",
       "    <tr style=\"text-align: right;\">\n",
       "      <th></th>\n",
       "      <th>genre</th>\n",
       "      <th>count</th>\n",
       "    </tr>\n",
       "  </thead>\n",
       "  <tbody>\n",
       "    <tr>\n",
       "      <th>18</th>\n",
       "      <td>Drama</td>\n",
       "      <td>177</td>\n",
       "    </tr>\n",
       "    <tr>\n",
       "      <th>13</th>\n",
       "      <td>Adventure</td>\n",
       "      <td>60</td>\n",
       "    </tr>\n",
       "    <tr>\n",
       "      <th>4</th>\n",
       "      <td>Crime</td>\n",
       "      <td>51</td>\n",
       "    </tr>\n",
       "    <tr>\n",
       "      <th>3</th>\n",
       "      <td>Action</td>\n",
       "      <td>50</td>\n",
       "    </tr>\n",
       "    <tr>\n",
       "      <th>15</th>\n",
       "      <td>Comedy</td>\n",
       "      <td>45</td>\n",
       "    </tr>\n",
       "    <tr>\n",
       "      <th>10</th>\n",
       "      <td>Mystery</td>\n",
       "      <td>31</td>\n",
       "    </tr>\n",
       "    <tr>\n",
       "      <th>1</th>\n",
       "      <td>Thriller</td>\n",
       "      <td>31</td>\n",
       "    </tr>\n",
       "    <tr>\n",
       "      <th>6</th>\n",
       "      <td>Biography</td>\n",
       "      <td>29</td>\n",
       "    </tr>\n",
       "    <tr>\n",
       "      <th>12</th>\n",
       "      <td>Romance</td>\n",
       "      <td>23</td>\n",
       "    </tr>\n",
       "    <tr>\n",
       "      <th>8</th>\n",
       "      <td>Animation</td>\n",
       "      <td>23</td>\n",
       "    </tr>\n",
       "    <tr>\n",
       "      <th>9</th>\n",
       "      <td>War</td>\n",
       "      <td>23</td>\n",
       "    </tr>\n",
       "    <tr>\n",
       "      <th>16</th>\n",
       "      <td>Sci-Fi</td>\n",
       "      <td>20</td>\n",
       "    </tr>\n",
       "    <tr>\n",
       "      <th>0</th>\n",
       "      <td>Fantasy</td>\n",
       "      <td>14</td>\n",
       "    </tr>\n",
       "    <tr>\n",
       "      <th>11</th>\n",
       "      <td>Family</td>\n",
       "      <td>13</td>\n",
       "    </tr>\n",
       "    <tr>\n",
       "      <th>14</th>\n",
       "      <td>History</td>\n",
       "      <td>10</td>\n",
       "    </tr>\n",
       "    <tr>\n",
       "      <th>5</th>\n",
       "      <td>Western</td>\n",
       "      <td>7</td>\n",
       "    </tr>\n",
       "    <tr>\n",
       "      <th>17</th>\n",
       "      <td>Sport</td>\n",
       "      <td>5</td>\n",
       "    </tr>\n",
       "    <tr>\n",
       "      <th>2</th>\n",
       "      <td>Music</td>\n",
       "      <td>5</td>\n",
       "    </tr>\n",
       "    <tr>\n",
       "      <th>20</th>\n",
       "      <td>Horror</td>\n",
       "      <td>5</td>\n",
       "    </tr>\n",
       "    <tr>\n",
       "      <th>19</th>\n",
       "      <td>Film-Noir</td>\n",
       "      <td>4</td>\n",
       "    </tr>\n",
       "    <tr>\n",
       "      <th>7</th>\n",
       "      <td>Musical</td>\n",
       "      <td>1</td>\n",
       "    </tr>\n",
       "  </tbody>\n",
       "</table>\n",
       "</div>"
      ],
      "text/plain": [
       "        genre  count\n",
       "18      Drama    177\n",
       "13  Adventure     60\n",
       "4       Crime     51\n",
       "3      Action     50\n",
       "15     Comedy     45\n",
       "10    Mystery     31\n",
       "1    Thriller     31\n",
       "6   Biography     29\n",
       "12    Romance     23\n",
       "8   Animation     23\n",
       "9         War     23\n",
       "16     Sci-Fi     20\n",
       "0     Fantasy     14\n",
       "11     Family     13\n",
       "14    History     10\n",
       "5     Western      7\n",
       "17      Sport      5\n",
       "2       Music      5\n",
       "20     Horror      5\n",
       "19  Film-Noir      4\n",
       "7     Musical      1"
      ]
     },
     "execution_count": 34,
     "metadata": {},
     "output_type": "execute_result"
    }
   ],
   "source": [
    "df_1 = pd.DataFrame(data,columns=['genre','count'])\n",
    "df_1.sort_values(by='count',ascending=False)"
   ]
  },
  {
   "cell_type": "markdown",
   "id": "96327e73",
   "metadata": {},
   "source": [
    "## Сделаем WordClud по жанрам"
   ]
  },
  {
   "cell_type": "code",
   "execution_count": 34,
   "id": "ed9effd9",
   "metadata": {},
   "outputs": [
    {
     "name": "stdout",
     "output_type": "stream",
     "text": [
      "Collecting WordCloud\n",
      "  Downloading wordcloud-1.9.2-cp39-cp39-win_amd64.whl (153 kB)\n",
      "     -------------------------------------- 153.3/153.3 kB 1.8 MB/s eta 0:00:00\n",
      "Requirement already satisfied: pillow in c:\\users\\lenovo\\anaconda3\\lib\\site-packages (from WordCloud) (9.2.0)\n",
      "Requirement already satisfied: matplotlib in c:\\users\\lenovo\\anaconda3\\lib\\site-packages (from WordCloud) (3.5.2)\n",
      "Requirement already satisfied: numpy>=1.6.1 in c:\\users\\lenovo\\anaconda3\\lib\\site-packages (from WordCloud) (1.21.5)\n",
      "Requirement already satisfied: cycler>=0.10 in c:\\users\\lenovo\\anaconda3\\lib\\site-packages (from matplotlib->WordCloud) (0.11.0)\n",
      "Requirement already satisfied: fonttools>=4.22.0 in c:\\users\\lenovo\\anaconda3\\lib\\site-packages (from matplotlib->WordCloud) (4.25.0)\n",
      "Requirement already satisfied: python-dateutil>=2.7 in c:\\users\\lenovo\\anaconda3\\lib\\site-packages (from matplotlib->WordCloud) (2.8.2)\n",
      "Requirement already satisfied: packaging>=20.0 in c:\\users\\lenovo\\anaconda3\\lib\\site-packages (from matplotlib->WordCloud) (21.3)\n",
      "Requirement already satisfied: pyparsing>=2.2.1 in c:\\users\\lenovo\\anaconda3\\lib\\site-packages (from matplotlib->WordCloud) (3.0.9)\n",
      "Requirement already satisfied: kiwisolver>=1.0.1 in c:\\users\\lenovo\\anaconda3\\lib\\site-packages (from matplotlib->WordCloud) (1.4.2)\n",
      "Requirement already satisfied: six>=1.5 in c:\\users\\lenovo\\anaconda3\\lib\\site-packages (from python-dateutil>=2.7->matplotlib->WordCloud) (1.16.0)\n",
      "Installing collected packages: WordCloud\n",
      "Successfully installed WordCloud-1.9.2\n"
     ]
    }
   ],
   "source": [
    "!pip install WordCloud\n"
   ]
  },
  {
   "cell_type": "code",
   "execution_count": 35,
   "id": "8efcdaeb",
   "metadata": {},
   "outputs": [],
   "source": [
    "from wordcloud import WordCloud"
   ]
  },
  {
   "cell_type": "code",
   "execution_count": 40,
   "id": "2ee7f158",
   "metadata": {},
   "outputs": [
    {
     "data": {
      "text/plain": [
       "0          Drama\n",
       "1          Crime\n",
       "2         Action\n",
       "3          Crime\n",
       "4          Crime\n",
       "         ...    \n",
       "621    Adventure\n",
       "622        Drama\n",
       "623       Comedy\n",
       "624      History\n",
       "625      Western\n",
       "Name: genre, Length: 626, dtype: object"
      ]
     },
     "execution_count": 40,
     "metadata": {},
     "output_type": "execute_result"
    }
   ],
   "source": [
    "unique_genre1 = []\n",
    "for i in df['genre'].values:\n",
    "    unique_genre1 += i.split(',')\n",
    "unique_genre12 = pd.DataFrame(unique_genre1,columns=['genre'])\n",
    "unique_genre12 = unique_genre12['genre']\n",
    "unique_genre12"
   ]
  },
  {
   "cell_type": "code",
   "execution_count": 41,
   "id": "62fbc4af",
   "metadata": {},
   "outputs": [
    {
     "data": {
      "image/png": "[encoded data removed]",
      "text/plain": [
       "<Figure size 1000x1000 with 1 Axes>"
      ]
     },
     "metadata": {},
     "output_type": "display_data"
    }
   ],
   "source": [
    "plt.subplots(figsize=(10,10))\n",
    "wordcloud1 = WordCloud(background_color='white', width=1920,height=1080).generate(\" \".join(unique_genre12))\n",
    "plt.imshow(wordcloud1)\n",
    "plt.axis('off')\n",
    "plt.show()"
   ]
  },
  {
   "cell_type": "code",
   "execution_count": 393,
   "id": "74687e0f",
   "metadata": {},
   "outputs": [
    {
     "data": {
      "text/plain": [
       "FreqDist({'Drama': 177, 'Adventure': 60, 'Crime': 51, 'Action': 50, 'Comedy': 45, 'Thriller': 31, 'Mystery': 31, 'Biography': 29, 'Romance': 23, 'War': 23, ...})"
      ]
     },
     "execution_count": 393,
     "metadata": {},
     "output_type": "execute_result"
    }
   ],
   "source": [
    "from nltk.probability import FreqDist\n",
    "fdist = FreqDist(unique_genre1)\n",
    "fdist"
   ]
  },
  {
   "cell_type": "code",
   "execution_count": 394,
   "id": "82ea6a80",
   "metadata": {},
   "outputs": [
    {
     "data": {
      "image/png": "[encoded data removed]",
      "text/plain": [
       "<Figure size 640x480 with 1 Axes>"
      ]
     },
     "metadata": {},
     "output_type": "display_data"
    },
    {
     "data": {
      "text/plain": [
       "<AxesSubplot:xlabel='Samples', ylabel='Counts'>"
      ]
     },
     "execution_count": 394,
     "metadata": {},
     "output_type": "execute_result"
    }
   ],
   "source": [
    "fdist.plot(30,cumulative=False)"
   ]
  },
  {
   "cell_type": "code",
   "execution_count": 60,
   "id": "1d4ea464",
   "metadata": {},
   "outputs": [],
   "source": [
    " df.to_excel(\"imdb.xlsx\")"
   ]
  }
 ],
 "metadata": {
  "kernelspec": {
   "display_name": "Python 3 (ipykernel)",
   "language": "python",
   "name": "python3"
  },
  "language_info": {
   "codemirror_mode": {
    "name": "ipython",
    "version": 3
   },
   "file_extension": ".py",
   "mimetype": "text/x-python",
   "name": "python",
   "nbconvert_exporter": "python",
   "pygments_lexer": "ipython3",
   "version": "3.9.13"
  }
 },
 "nbformat": 4,
 "nbformat_minor": 5
}
